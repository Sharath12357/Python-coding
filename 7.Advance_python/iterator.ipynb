{
 "cells": [
  {
   "cell_type": "code",
   "execution_count": 1,
   "metadata": {},
   "outputs": [],
   "source": [
    "#iterator is a concept traverse the element of collection like (list,tuple,set and dictionary etc)"
   ]
  },
  {
   "cell_type": "code",
   "execution_count": 2,
   "metadata": {},
   "outputs": [
    {
     "name": "stdout",
     "output_type": "stream",
     "text": [
      "1\n",
      "2\n",
      "3\n",
      "4\n",
      "5\n",
      "6\n",
      "7\n"
     ]
    }
   ],
   "source": [
    "iterator=[1,2,3,4,5,6,7]\n",
    "for i in iterator:## This is the normal iterator method \n",
    "    print(i)"
   ]
  },
  {
   "cell_type": "code",
   "execution_count": 6,
   "metadata": {},
   "outputs": [
    {
     "name": "stdout",
     "output_type": "stream",
     "text": [
      "1\n"
     ]
    }
   ],
   "source": [
    "iterator1=[1,2,3,4,5,6,7]\n",
    "\n",
    "it=iter(iterator1)\n"
   ]
  },
  {
   "cell_type": "code",
   "execution_count": 13,
   "metadata": {},
   "outputs": [
    {
     "ename": "StopIteration",
     "evalue": "",
     "output_type": "error",
     "traceback": [
      "\u001b[1;31m---------------------------------------------------------------------------\u001b[0m",
      "\u001b[1;31mStopIteration\u001b[0m                             Traceback (most recent call last)",
      "Cell \u001b[1;32mIn[13], line 1\u001b[0m\n\u001b[1;32m----> 1\u001b[0m \u001b[38;5;28mprint\u001b[39m(\u001b[38;5;28;43mnext\u001b[39;49m\u001b[43m(\u001b[49m\u001b[43mit\u001b[49m\u001b[43m)\u001b[49m)\n",
      "\u001b[1;31mStopIteration\u001b[0m: "
     ]
    }
   ],
   "source": [
    "print(next(it))"
   ]
  },
  {
   "cell_type": "code",
   "execution_count": 14,
   "metadata": {},
   "outputs": [
    {
     "name": "stdout",
     "output_type": "stream",
     "text": [
      "The iteration is stoped\n"
     ]
    }
   ],
   "source": [
    "try:\n",
    "    print(next(it))\n",
    "except StopIteration:\n",
    "    print(\"The iteration is stoped\") ## this is how the use the ierator functiom"
   ]
  },
  {
   "cell_type": "code",
   "execution_count": 16,
   "metadata": {},
   "outputs": [
    {
     "data": {
      "text/plain": [
       "6"
      ]
     },
     "execution_count": 16,
     "metadata": {},
     "output_type": "execute_result"
    }
   ],
   "source": [
    "#generator --> generator is a special type of iterator that lets to genetate a values on the fly using the yield keyword\n",
    "\n",
    "def fun(i):\n",
    "    return i*2\n",
    "\n",
    "fun(3)"
   ]
  },
  {
   "cell_type": "code",
   "execution_count": 17,
   "metadata": {},
   "outputs": [
    {
     "data": {
      "text/plain": [
       "<generator object fun1 at 0x0000018CD37B2080>"
      ]
     },
     "execution_count": 17,
     "metadata": {},
     "output_type": "execute_result"
    }
   ],
   "source": [
    "def fun1(i):\n",
    "    yield i*2\n",
    "\n",
    "fun1(3)"
   ]
  },
  {
   "cell_type": "code",
   "execution_count": 21,
   "metadata": {},
   "outputs": [
    {
     "name": "stdout",
     "output_type": "stream",
     "text": [
      "1\n",
      "2\n",
      "3\n"
     ]
    }
   ],
   "source": [
    "def genrator():\n",
    "    yield 1\n",
    "    yield 2\n",
    "    yield 3\n",
    "\n",
    "gen=genrator()\n",
    "print(next(gen))\n",
    "print(next(gen))\n",
    "print(next(gen))"
   ]
  },
  {
   "cell_type": "code",
   "execution_count": 45,
   "metadata": {},
   "outputs": [
    {
     "name": "stdout",
     "output_type": "stream",
     "text": [
      "Narendra Damodardas Modi is an Indian politician who has served as the prime minister of India since 2014. Modi was the chief minister of Gujarat from 2001 to 2014 and is the member of parliament (MP) for Varanasi. He is a member of the Bharatiya Janata Party (BJP) and of the Rashtriya Swayamsevak Sangh (RSS), a right-wing Hindutva paramilitary volunteer organisation. He is the longest-serving prime minister outside the Indian National Congress.\n"
     ]
    }
   ],
   "source": [
    "def file_open(file_path):\n",
    "    with open(file_path,'r') as file:\n",
    "        for line in file:\n",
    "            yield line\n",
    "\n",
    "file_path=\"documents.txt\"\n",
    "for line in file_open(file_path):\n",
    "    print(line.strip())\n",
    "\n",
    "\n",
    "  \n",
    "\n",
    "\n"
   ]
  },
  {
   "cell_type": "code",
   "execution_count": 49,
   "metadata": {},
   "outputs": [
    {
     "data": {
      "text/plain": [
       "'Hello welcom to the Advance python program'"
      ]
     },
     "execution_count": 49,
     "metadata": {},
     "output_type": "execute_result"
    }
   ],
   "source": [
    "## Clours / copy/ decorators\n",
    "\n",
    "def welcom():\n",
    "    return \"Hello welcom to the Advance python program\" \n",
    "\n",
    "welcom()"
   ]
  },
  {
   "cell_type": "code",
   "execution_count": 55,
   "metadata": {},
   "outputs": [
    {
     "ename": "NameError",
     "evalue": "name 'welcom' is not defined",
     "output_type": "error",
     "traceback": [
      "\u001b[1;31m---------------------------------------------------------------------------\u001b[0m",
      "\u001b[1;31mNameError\u001b[0m                                 Traceback (most recent call last)",
      "Cell \u001b[1;32mIn[55], line 1\u001b[0m\n\u001b[1;32m----> 1\u001b[0m wel\u001b[38;5;241m=\u001b[39m\u001b[43mwelcom\u001b[49m\n\u001b[0;32m      2\u001b[0m \u001b[38;5;28mprint\u001b[39m(wel())\n\u001b[0;32m      4\u001b[0m \u001b[38;5;28;01mdel\u001b[39;00m welcom\n",
      "\u001b[1;31mNameError\u001b[0m: name 'welcom' is not defined"
     ]
    }
   ],
   "source": [
    "wel=welcom\n",
    "print(wel())\n",
    "\n",
    "del welcom\n",
    "\n",
    "print(wel)"
   ]
  },
  {
   "cell_type": "code",
   "execution_count": 56,
   "metadata": {},
   "outputs": [
    {
     "data": {
      "text/plain": [
       "'Hello welcom to the Advance python program'"
      ]
     },
     "execution_count": 56,
     "metadata": {},
     "output_type": "execute_result"
    }
   ],
   "source": [
    "wel()"
   ]
  },
  {
   "cell_type": "code",
   "execution_count": 82,
   "metadata": {},
   "outputs": [],
   "source": [
    "## Clours-> clours is define as define the function inside the another function and remember the variable from the outer function has finish executing\n",
    "# They are 3 main reason used clouser\n",
    "#1.Hiding the data \n",
    "# 2.Avoid Global declaration\n",
    "# 3.custom function behaviour (like decorator)\n",
    "\n",
    "def main_function(message):\n",
    "    \n",
    "\n",
    "    def sub_main_function():\n",
    "        print(\"Welcome to the advance python program\")\n",
    "        print(message)\n",
    "     \n",
    "\n",
    "        print(\"Learn this concept very clearly because this is important for placement\")\n",
    "\n",
    "    return sub_main_function()\n",
    "\n"
   ]
  },
  {
   "cell_type": "code",
   "execution_count": 83,
   "metadata": {},
   "outputs": [
    {
     "name": "stdout",
     "output_type": "stream",
     "text": [
      "Welcome to the advance python program\n",
      "hello welcome to the bangalore\n",
      "Learn this concept very clearly because this is important for placement\n"
     ]
    }
   ],
   "source": [
    "main_function(\"hello welcome to the bangalore\")"
   ]
  },
  {
   "cell_type": "code",
   "execution_count": 93,
   "metadata": {},
   "outputs": [],
   "source": [
    "#Decorators-> A functio take the inside the another function input return modify version of it\n",
    "\n",
    "# without using decortors \n",
    "\n",
    "\n",
    "def main_function(func):\n",
    "    def sun_main_function():\n",
    "        print(\"India prime minister is narendra modi\")\n",
    "        func()\n",
    "        print(\"The karanataka cappital is bengalore\")\n",
    "    return sun_main_function()\n",
    "\n",
    "\n"
   ]
  },
  {
   "cell_type": "code",
   "execution_count": 94,
   "metadata": {},
   "outputs": [],
   "source": [
    "def add_function():\n",
    "    print(\"the india capital is new delhi\")"
   ]
  },
  {
   "cell_type": "code",
   "execution_count": 99,
   "metadata": {},
   "outputs": [
    {
     "name": "stdout",
     "output_type": "stream",
     "text": [
      "India prime minister is narendra modi\n",
      "the india capital is new delhi\n",
      "The karanataka cappital is bengalore\n"
     ]
    },
    {
     "ename": "TypeError",
     "evalue": "main_function() missing 1 required positional argument: 'func'",
     "output_type": "error",
     "traceback": [
      "\u001b[1;31m---------------------------------------------------------------------------\u001b[0m",
      "\u001b[1;31mTypeError\u001b[0m                                 Traceback (most recent call last)",
      "Cell \u001b[1;32mIn[99], line 3\u001b[0m\n\u001b[0;32m      1\u001b[0m main_function(add_function)\n\u001b[1;32m----> 3\u001b[0m \u001b[43mmain_function\u001b[49m\u001b[43m(\u001b[49m\u001b[43m)\u001b[49m\n",
      "\u001b[1;31mTypeError\u001b[0m: main_function() missing 1 required positional argument: 'func'"
     ]
    }
   ],
   "source": [
    "main_function(add_function)\n",
    "\n",
    "main_function()"
   ]
  },
  {
   "cell_type": "code",
   "execution_count": 105,
   "metadata": {},
   "outputs": [],
   "source": [
    "#with using decorators \n",
    "\n",
    "def main_function1(func):\n",
    "    def sub_main_function2():\n",
    "        print(\"Hello world\")\n",
    "        func()\n",
    "        print(\"Hello karnataka\")\n",
    "    return sub_main_function2()"
   ]
  },
  {
   "cell_type": "code",
   "execution_count": 106,
   "metadata": {},
   "outputs": [],
   "source": [
    "def sub_sub_function3():\n",
    "    print(\"Hello india\")"
   ]
  },
  {
   "cell_type": "code",
   "execution_count": 107,
   "metadata": {},
   "outputs": [
    {
     "name": "stdout",
     "output_type": "stream",
     "text": [
      "Hello world\n",
      "Hello indiaa\n",
      "Hello karnataka\n"
     ]
    }
   ],
   "source": [
    "@main_function1\n",
    "def sub_sub_function3():\n",
    "    print(\"Hello indiaa\")"
   ]
  },
  {
   "cell_type": "code",
   "execution_count": null,
   "metadata": {},
   "outputs": [],
   "source": []
  }
 ],
 "metadata": {
  "kernelspec": {
   "display_name": "Python 3",
   "language": "python",
   "name": "python3"
  },
  "language_info": {
   "codemirror_mode": {
    "name": "ipython",
    "version": 3
   },
   "file_extension": ".py",
   "mimetype": "text/x-python",
   "name": "python",
   "nbconvert_exporter": "python",
   "pygments_lexer": "ipython3",
   "version": "3.12.0"
  }
 },
 "nbformat": 4,
 "nbformat_minor": 2
}
