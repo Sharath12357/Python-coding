{
 "cells": [
  {
   "cell_type": "code",
   "execution_count": 3,
   "metadata": {},
   "outputs": [
    {
     "name": "stdout",
     "output_type": "stream",
     "text": [
      "<__main__.Animal object at 0x000001BBBBA51670>\n",
      "21\n",
      "King\n"
     ]
    }
   ],
   "source": [
    "class Animal:\n",
    "    def __init__(self,name,age):\n",
    "        self.name=name\n",
    "        self.age=age\n",
    "\n",
    "Lion=Animal(\"King\",21)\n",
    "print(Lion)\n",
    "print(Lion.age)\n",
    "print(Lion.name)"
   ]
  },
  {
   "cell_type": "code",
   "execution_count": 9,
   "metadata": {},
   "outputs": [
    {
     "name": "stdout",
     "output_type": "stream",
     "text": [
      "500\n",
      "The bank balnce is 600\n",
      "The bank balace is 300\n"
     ]
    },
    {
     "data": {
      "text/plain": [
       "300"
      ]
     },
     "execution_count": 9,
     "metadata": {},
     "output_type": "execute_result"
    }
   ],
   "source": [
    "# Creating Bank Account\n",
    "class BankAccount():\n",
    "    def __init__(self,owner,bankbalance=0):\n",
    "        self.owner=owner\n",
    "        self.bankbalance=bankbalance\n",
    "\n",
    "    def deposite(self,amount):\n",
    "        self.bankbalance+=amount\n",
    "        print(f\"The bank balnce is {self.bankbalance}\")\n",
    "    def withdraw(self,amount):\n",
    "        if amount>self.bankbalance:\n",
    "            print(\"The insuffient balance\")\n",
    "        else:\n",
    "            self.bankbalance-=amount\n",
    "            print(f\"The bank balace is {self.bankbalance}\")\n",
    "    def getbalance(self):\n",
    "        return self.bankbalance\n",
    "account=BankAccount(\"sharath\",500)\n",
    "print(account.bankbalance)\n",
    "\n",
    "account.deposite(100)\n",
    "account.withdraw(300)\n",
    "account.getbalance()\n"
   ]
  },
  {
   "cell_type": "code",
   "execution_count": null,
   "metadata": {},
   "outputs": [],
   "source": []
  }
 ],
 "metadata": {
  "kernelspec": {
   "display_name": "Python 3",
   "language": "python",
   "name": "python3"
  },
  "language_info": {
   "codemirror_mode": {
    "name": "ipython",
    "version": 3
   },
   "file_extension": ".py",
   "mimetype": "text/x-python",
   "name": "python",
   "nbconvert_exporter": "python",
   "pygments_lexer": "ipython3",
   "version": "3.12.0"
  }
 },
 "nbformat": 4,
 "nbformat_minor": 2
}
