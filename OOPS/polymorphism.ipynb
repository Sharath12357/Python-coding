{
 "cells": [
  {
   "cell_type": "code",
   "execution_count": 1,
   "metadata": {},
   "outputs": [],
   "source": [
    "##Polymorphism:-Polymorphism is a core concept of object oriented programming language that allows object of different classes to be treated as object of common superclass.It provides a way to perform a single action in different form \n",
    "# For short same name different behaviour\n"
   ]
  },
  {
   "cell_type": "code",
   "execution_count": 2,
   "metadata": {},
   "outputs": [],
   "source": [
    "#Method overidding :-method overidding alows to child class to provide a specific implemetation of method that is already define its parent class."
   ]
  },
  {
   "cell_type": "code",
   "execution_count": 5,
   "metadata": {},
   "outputs": [
    {
     "data": {
      "text/plain": [
       "'meow'"
      ]
     },
     "execution_count": 5,
     "metadata": {},
     "output_type": "execute_result"
    }
   ],
   "source": [
    "#Base class \n",
    "class Animal():\n",
    "    def speak(self):\n",
    "        return \"sound of the animal\"\n",
    "    \n",
    "#Derive class 1\n",
    "class Dog(Animal):\n",
    "    def speak(self):\n",
    "        return \"woof\"\n",
    "    \n",
    "#Derive class 2\n",
    "\n",
    "class Cat(Animal):\n",
    "    def speak(self):\n",
    "        return \"meow\"\n",
    "    \n",
    "#Object created \n",
    "\n",
    "dog=Dog()\n",
    "dog.speak()\n",
    "cat=Cat()\n",
    "cat.speak()"
   ]
  },
  {
   "cell_type": "code",
   "execution_count": null,
   "metadata": {},
   "outputs": [],
   "source": []
  },
  {
   "cell_type": "code",
   "execution_count": 9,
   "metadata": {},
   "outputs": [
    {
     "name": "stdout",
     "output_type": "stream",
     "text": [
      "Motercycle engine started\n"
     ]
    }
   ],
   "source": [
    "#Polymorphism with abstract base class\n",
    "\n",
    "#Abstract base class(ABC) are used to define common method for a group of related objects \n",
    "\n",
    "from abc import ABC,abstractmethod\n",
    "#Define an abstract class\n",
    "\n",
    "class Vehical(ABC):\n",
    "    @abstractmethod\n",
    "\n",
    "    def start_engine(self):\n",
    "        pass\n",
    "#Derive class 1\n",
    "\n",
    "class Car(Vehical):\n",
    "    def start_engine(self):\n",
    "            return \"car engine started!!\"\n",
    "#Derive class 2\n",
    "\n",
    "class motercycle(Vehical):\n",
    "     def start_engine(self):\n",
    "          return \"Motercycle engine started\"\n",
    "#Function that demonstrate polymorphisam \n",
    "\n",
    "def start_vehical(Vehical):\n",
    "     print(Vehical.start_engine())\n",
    "#Create object of car and motercycle \n",
    "\n",
    "car=Car()\n",
    "Motercycle=motercycle()\n",
    "start_vehical(Motercycle)\n"
   ]
  },
  {
   "cell_type": "code",
   "execution_count": null,
   "metadata": {},
   "outputs": [],
   "source": []
  }
 ],
 "metadata": {
  "kernelspec": {
   "display_name": "Python 3",
   "language": "python",
   "name": "python3"
  },
  "language_info": {
   "codemirror_mode": {
    "name": "ipython",
    "version": 3
   },
   "file_extension": ".py",
   "mimetype": "text/x-python",
   "name": "python",
   "nbconvert_exporter": "python",
   "pygments_lexer": "ipython3",
   "version": "3.12.0"
  }
 },
 "nbformat": 4,
 "nbformat_minor": 2
}
