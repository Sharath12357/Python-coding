{
 "cells": [
  {
   "cell_type": "code",
   "execution_count": 4,
   "metadata": {},
   "outputs": [],
   "source": [
    "# Inheritence:- The inheritence is the fundamental concept of object oriented programming language that allows a class to inherit attributes and methods from another class.\n",
    "# 1. Single inherit\n",
    "# 2. Multiple inherit\n"
   ]
  },
  {
   "cell_type": "code",
   "execution_count": 5,
   "metadata": {},
   "outputs": [],
   "source": [
    "#Single inherit"
   ]
  },
  {
   "cell_type": "code",
   "execution_count": 1,
   "metadata": {},
   "outputs": [
    {
     "name": "stdout",
     "output_type": "stream",
     "text": [
      "The mahindra car have 4 windows\n",
      " The telsa support selfdriving: 4\n"
     ]
    }
   ],
   "source": [
    "class Car():\n",
    "    def __init__(self,windows,enginetype):\n",
    "        self.windows=windows\n",
    "        self.enginetype=enginetype\n",
    "    def Mahindra(self):\n",
    "        print(f\"The mahindra car have {self.windows} windows\")\n",
    "    \n",
    "class Tesla(Car):\n",
    "    def __init__(self,windows,enginetype,is_selfdriving):\n",
    "        super().__init__(windows,enginetype)\n",
    "        self.is_selfdriving=is_selfdriving\n",
    "    def selfdriving(self):\n",
    "        print(f\" The telsa support selfdriving: {self.windows}\")\n",
    "\n",
    "#Object creating\n",
    "\n",
    "car1=Car(4,\"petrol\")\n",
    "car1.Mahindra()\n",
    "\n",
    "\n",
    "car2=Tesla(4,\"Petrol\",True)\n",
    "car2.selfdriving()\n"
   ]
  },
  {
   "cell_type": "code",
   "execution_count": 24,
   "metadata": {},
   "outputs": [],
   "source": [
    "#Multiple Inheritence\n",
    "\n",
    "# When a class inherit from more than one base class is called multiple inheritence"
   ]
  },
  {
   "cell_type": "code",
   "execution_count": 32,
   "metadata": {},
   "outputs": [
    {
     "name": "stdout",
     "output_type": "stream",
     "text": [
      "Buddy say woof\n",
      "owner:sharath\n"
     ]
    }
   ],
   "source": [
    "#Base calss 1\n",
    "\n",
    "class Animal():\n",
    "    def __init__(self,name):\n",
    "        self.name=name\n",
    "       \n",
    "    def speak(self):\n",
    "        print(\"Subclass must implement this method\")\n",
    "#base class 2\n",
    "\n",
    "class Pet():\n",
    "    def __init__(self,owner):\n",
    "        self.owner=owner\n",
    "\n",
    "#Derive Class\n",
    "\n",
    "class Dog(Animal,Pet):\n",
    "    def __init__(self,name,owner):\n",
    "        Animal.__init__(self,name)\n",
    "        Pet.__init__(self,owner)\n",
    "    def speak(self):\n",
    "        return f\"{self.name} say woof\"\n",
    "dog=Dog(\"Buddy\",\"sharath\")\n",
    "print(dog.speak())\n",
    "print(f\"owner:{dog.owner}\")\n"
   ]
  },
  {
   "cell_type": "code",
   "execution_count": null,
   "metadata": {},
   "outputs": [],
   "source": []
  }
 ],
 "metadata": {
  "kernelspec": {
   "display_name": "Python 3",
   "language": "python",
   "name": "python3"
  },
  "language_info": {
   "codemirror_mode": {
    "name": "ipython",
    "version": 3
   },
   "file_extension": ".py",
   "mimetype": "text/x-python",
   "name": "python",
   "nbconvert_exporter": "python",
   "pygments_lexer": "ipython3",
   "version": "3.12.0"
  }
 },
 "nbformat": 4,
 "nbformat_minor": 2
}
