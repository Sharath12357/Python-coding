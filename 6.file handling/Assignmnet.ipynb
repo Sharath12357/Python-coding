{
 "cells": [
  {
   "cell_type": "code",
   "execution_count": 3,
   "metadata": {},
   "outputs": [],
   "source": [
    "with open(\"sample.txt\",'w') as file:\n",
    "    file.write(\"hello how are you\\n\")\n",
    "    file.write(\"where are you from\\n\")\n",
    "    file.write(\"have a nice day\\n\")"
   ]
  },
  {
   "cell_type": "code",
   "execution_count": 4,
   "metadata": {},
   "outputs": [
    {
     "name": "stdout",
     "output_type": "stream",
     "text": [
      "hello how are you\n",
      "where are you from\n",
      "have a nice day\n",
      "\n"
     ]
    }
   ],
   "source": [
    "with open('sample.txt','r')as file:\n",
    "    content=file.read()\n",
    "    print(content)"
   ]
  },
  {
   "cell_type": "code",
   "execution_count": 8,
   "metadata": {},
   "outputs": [
    {
     "name": "stdout",
     "output_type": "stream",
     "text": [
      "53\n"
     ]
    }
   ],
   "source": [
    "with open('sample.txt','r')as source_file:\n",
    "    content=source_file.read()\n",
    "\n",
    "with open('destination.txt','w') as destination_file:\n",
    "     view=destination_file.write(content)\n",
    "     print(view)"
   ]
  },
  {
   "cell_type": "code",
   "execution_count": 11,
   "metadata": {},
   "outputs": [],
   "source": [
    "#APPEND FUNCTION\n",
    "with open('log.txt','a') as file:\n",
    "    file.write(\"My college name  is alvas\\n\")\n",
    "    file.write(\"My branch is AIML\\n\")\n",
    "    file.write(\"Thank you so much\\n\")"
   ]
  },
  {
   "cell_type": "code",
   "execution_count": 16,
   "metadata": {},
   "outputs": [],
   "source": [
    "## Count the element in file\n",
    "\n",
    "with open('documnet.txt','w') as file:\n",
    "    file.write(\"Alvas institute of engineering and technology\\n\")\n",
    "    file.write(\"I am looking for data scince and aiml related job\\n\")"
   ]
  },
  {
   "cell_type": "code",
   "execution_count": 20,
   "metadata": {},
   "outputs": [
    {
     "name": "stdout",
     "output_type": "stream",
     "text": [
      "['Alvas', 'institute', 'of', 'engineering', 'and', 'technology', 'I', 'am', 'looking', 'for', 'data', 'scince', 'and', 'aiml', 'related', 'job'] 16\n"
     ]
    }
   ],
   "source": [
    "with open('documnet.txt','r') as file:\n",
    "    content=file.read()\n",
    "    word=content.split()\n",
    "    print(word,len(word))\n",
    "    "
   ]
  },
  {
   "cell_type": "code",
   "execution_count": null,
   "metadata": {},
   "outputs": [],
   "source": []
  }
 ],
 "metadata": {
  "kernelspec": {
   "display_name": "Python 3",
   "language": "python",
   "name": "python3"
  },
  "language_info": {
   "codemirror_mode": {
    "name": "ipython",
    "version": 3
   },
   "file_extension": ".py",
   "mimetype": "text/x-python",
   "name": "python",
   "nbconvert_exporter": "python",
   "pygments_lexer": "ipython3",
   "version": "3.12.0"
  }
 },
 "nbformat": 4,
 "nbformat_minor": 2
}
